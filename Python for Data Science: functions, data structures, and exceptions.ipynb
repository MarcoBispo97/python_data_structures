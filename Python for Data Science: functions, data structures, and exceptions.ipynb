{
 "cells": [
  {
   "attachments": {},
   "cell_type": "markdown",
   "metadata": {},
   "source": [
    "# Functions:"
   ]
  },
  {
   "attachments": {},
   "cell_type": "markdown",
   "metadata": {},
   "source": [
    "## Normal Functions:"
   ]
  },
  {
   "attachments": {},
   "cell_type": "markdown",
   "metadata": {},
   "source": [
    "### Write a Python function called \"sum\" that takes two numbers as parameters and returns their sum."
   ]
  },
  {
   "cell_type": "code",
   "execution_count": 1,
   "metadata": {},
   "outputs": [
    {
     "data": {
      "text/plain": [
       "18"
      ]
     },
     "execution_count": 1,
     "metadata": {},
     "output_type": "execute_result"
    }
   ],
   "source": [
    "def sum_ab(a,b):\n",
    "    c = a + b\n",
    "    return c\n",
    "\n",
    "sum_ab(8,10)"
   ]
  },
  {
   "attachments": {},
   "cell_type": "markdown",
   "metadata": {},
   "source": [
    "### Write a function called \"greatest_number\" that takes a list of numbers as a parameter and returns the largest number in the list."
   ]
  },
  {
   "cell_type": "code",
   "execution_count": 2,
   "metadata": {},
   "outputs": [
    {
     "data": {
      "text/plain": [
       "120"
      ]
     },
     "execution_count": 2,
     "metadata": {},
     "output_type": "execute_result"
    }
   ],
   "source": [
    "def greatest_number(list):\n",
    "    list.sort(reverse=True)\n",
    "    number = list[0]\n",
    "    return number\n",
    "\n",
    "list1=[1,2,3,4,5,6,7,8,9,10,80,120]\n",
    "\n",
    "greatest_number(list1)"
   ]
  },
  {
   "attachments": {},
   "cell_type": "markdown",
   "metadata": {},
   "source": [
    "### Write a function called \"average\" that takes a list of numbers as a parameter and returns the arithmetic mean of the elements in the list."
   ]
  },
  {
   "cell_type": "code",
   "execution_count": 3,
   "metadata": {},
   "outputs": [
    {
     "data": {
      "text/plain": [
       "5.0"
      ]
     },
     "execution_count": 3,
     "metadata": {},
     "output_type": "execute_result"
    }
   ],
   "source": [
    "list1 = [1,2,3,4,5,6,7,8,9]\n",
    "def avarege(list):\n",
    "    size_list =len(list)\n",
    "    sum_list = sum(list)\n",
    "    num_avarage = sum_list/size_list\n",
    "    return num_avarage\n",
    "\n",
    "avarege(list1)"
   ]
  },
  {
   "attachments": {},
   "cell_type": "markdown",
   "metadata": {},
   "source": [
    "### Write a function called \"even_or_odd\" that takes a number as a parameter and returns \"even\" if the number is even, or \"odd\" if the number is odd."
   ]
  },
  {
   "cell_type": "code",
   "execution_count": 4,
   "metadata": {},
   "outputs": [
    {
     "name": "stdout",
     "output_type": "stream",
     "text": [
      "It is odd\n"
     ]
    }
   ],
   "source": [
    "def even_or_odd(number):\n",
    "    if number % 2 == 0:\n",
    "        return \"even\"\n",
    "    else:\n",
    "        return \"odd\"\n",
    "\n",
    "result = even_or_odd(5)\n",
    "print(\"It is\", result)"
   ]
  },
  {
   "attachments": {},
   "cell_type": "markdown",
   "metadata": {},
   "source": [
    "### Write a function called \"factorial\" that takes an integer as a parameter and returns the factorial of that number. The factorial of a number is the product of all integers from 1 to the number itself."
   ]
  },
  {
   "cell_type": "code",
   "execution_count": 5,
   "metadata": {},
   "outputs": [
    {
     "name": "stdout",
     "output_type": "stream",
     "text": [
      "The factorial of 6 is: 720\n"
     ]
    }
   ],
   "source": [
    "def factorial(number):\n",
    "    if number < 0:\n",
    "        return \"Factorial is not defined for negative numbers.\"\n",
    "    elif number == 0 or number == 1:\n",
    "        return 1\n",
    "    else:\n",
    "        result = 1\n",
    "        for i in range(2, number + 1):\n",
    "            result *= i\n",
    "        return result\n",
    "num = 6\n",
    "result = factorial(num)\n",
    "print('The factorial of', num, 'is:', result)"
   ]
  },
  {
   "attachments": {},
   "cell_type": "markdown",
   "metadata": {},
   "source": [
    "## Lambda function:"
   ]
  },
  {
   "attachments": {},
   "cell_type": "markdown",
   "metadata": {},
   "source": [
    "### Lambda function that returns the square of a number:"
   ]
  },
  {
   "cell_type": "code",
   "execution_count": 6,
   "metadata": {},
   "outputs": [
    {
     "name": "stdout",
     "output_type": "stream",
     "text": [
      "25\n"
     ]
    }
   ],
   "source": [
    "square_number = (lambda x: x * x)(5)\n",
    "print(square_number)"
   ]
  },
  {
   "attachments": {},
   "cell_type": "markdown",
   "metadata": {},
   "source": [
    "### Lambda function that checks if a number is even:"
   ]
  },
  {
   "cell_type": "code",
   "execution_count": 7,
   "metadata": {},
   "outputs": [
    {
     "name": "stdout",
     "output_type": "stream",
     "text": [
      "even number\n"
     ]
    }
   ],
   "source": [
    "check_even = (lambda x : 'even number' if x % 2 == 0 else 'odd number')(10)\n",
    "print(check_even)"
   ]
  },
  {
   "attachments": {},
   "cell_type": "markdown",
   "metadata": {},
   "source": [
    "### Lambda function that returns the sum of two numbers:"
   ]
  },
  {
   "cell_type": "code",
   "execution_count": 8,
   "metadata": {},
   "outputs": [
    {
     "name": "stdout",
     "output_type": "stream",
     "text": [
      "15\n"
     ]
    }
   ],
   "source": [
    "sum_tow_numbers = (lambda a, b: a+b)(5,10)\n",
    "print(sum_tow_numbers)"
   ]
  },
  {
   "attachments": {},
   "cell_type": "markdown",
   "metadata": {},
   "source": [
    "### Lambda function that returns the absolute value of a number:"
   ]
  },
  {
   "cell_type": "code",
   "execution_count": 9,
   "metadata": {},
   "outputs": [
    {
     "name": "stdout",
     "output_type": "stream",
     "text": [
      "5\n"
     ]
    }
   ],
   "source": [
    "absolute_value = (lambda x: abs(x))(-5)\n",
    "print(absolute_value)"
   ]
  },
  {
   "attachments": {},
   "cell_type": "markdown",
   "metadata": {},
   "source": [
    "### Lambda function that checks if a word is a palindrome (reads the same backwards):"
   ]
  },
  {
   "cell_type": "code",
   "execution_count": 10,
   "metadata": {},
   "outputs": [
    {
     "name": "stdout",
     "output_type": "stream",
     "text": [
      "True\n"
     ]
    }
   ],
   "source": [
    "is_palindrome = (lambda x: x==x[::-1])\n",
    "print(is_palindrome('ana'))"
   ]
  },
  {
   "attachments": {},
   "cell_type": "markdown",
   "metadata": {},
   "source": [
    "### Lambda function that returns the double of each element in a list:"
   ]
  },
  {
   "cell_type": "code",
   "execution_count": 11,
   "metadata": {},
   "outputs": [
    {
     "name": "stdout",
     "output_type": "stream",
     "text": [
      "[2, 4, 6, 8, 10]\n"
     ]
    }
   ],
   "source": [
    "list_x = [1, 2, 3, 4, 5]\n",
    "\n",
    "lambda_double = lambda list: [element * 2 for element in list]\n",
    "\n",
    "print(lambda_double(list_x))"
   ]
  },
  {
   "attachments": {},
   "cell_type": "markdown",
   "metadata": {},
   "source": [
    "## MAP function:"
   ]
  },
  {
   "attachments": {},
   "cell_type": "markdown",
   "metadata": {},
   "source": [
    "### Exercise 1: Convert Temperatures. In this exercise, we are going to convert a list of temperatures in degrees Celsius to Fahrenheit using the map() function. List of temperatures in Celsius: temperatures_celsius = [25, 30, 15, 20, 10]"
   ]
  },
  {
   "cell_type": "code",
   "execution_count": 12,
   "metadata": {},
   "outputs": [
    {
     "name": "stdout",
     "output_type": "stream",
     "text": [
      "[68.0, 50.0, 23.0, 86.0, 32.0]\n"
     ]
    }
   ],
   "source": [
    "list_temp = [20,10,-5,30,0]\n",
    "\n",
    "convert_celsius_to_fahrenheit = list(map(lambda x: (x * 9/5) + 32, list_temp))\n",
    "\n",
    "print(convert_celsius_to_fahrenheit)"
   ]
  },
  {
   "attachments": {},
   "cell_type": "markdown",
   "metadata": {},
   "source": [
    "### Exercise 2: Calculating Word Length In this exercise, we will calculate the length of each word in a list of words using the map() function. Wordlist, words = [\"Python\", \"is\", \"a\", \"language\", \"of\", \"programming\"]"
   ]
  },
  {
   "cell_type": "code",
   "execution_count": 13,
   "metadata": {},
   "outputs": [
    {
     "name": "stdout",
     "output_type": "stream",
     "text": [
      "[6, 2, 1, 8, 2, 11]\n"
     ]
    }
   ],
   "source": [
    "list_words = [\"Python\", \"is\", \"a\", \"language\", \"of\", \"programming\"]\n",
    "\n",
    "calculing_word_lengh = list(map(lambda word: len(word), list_words))\n",
    "\n",
    "print(calculing_word_lengh)"
   ]
  },
  {
   "attachments": {},
   "cell_type": "markdown",
   "metadata": {},
   "source": [
    "### Exercise 3: Converting Numbers to Strings In this exercise, we are going to convert a list of integers into a list of strings using the map() function.List of integers numbers = [10, 20, 30, 40, 50]"
   ]
  },
  {
   "cell_type": "code",
   "execution_count": 14,
   "metadata": {},
   "outputs": [
    {
     "name": "stdout",
     "output_type": "stream",
     "text": [
      "['10', '20', '30', '40', '50']\n"
     ]
    }
   ],
   "source": [
    "integers_numbers = [10, 20, 30, 40, 50]\n",
    "\n",
    "converting_numbers_to_strings = list(map(lambda inter: str(inter), integers_numbers))\n",
    "\n",
    "print(converting_numbers_to_strings)"
   ]
  },
  {
   "attachments": {},
   "cell_type": "markdown",
   "metadata": {},
   "source": [
    "### Exercise 4: Raising Numbers to Powers In this exercise, we will raise each number in a list to a power using the map() function.\n",
    "### List of numbers numbers = [2, 3, 4, 5], Desired power power = 3"
   ]
  },
  {
   "cell_type": "code",
   "execution_count": 15,
   "metadata": {},
   "outputs": [
    {
     "name": "stdout",
     "output_type": "stream",
     "text": [
      "[8, 27, 64, 125]\n"
     ]
    }
   ],
   "source": [
    "list_numbers = [2,3,4,5]\n",
    "\n",
    "numbers_power_3 = list(map(lambda numb: numb**3, list_numbers))\n",
    "\n",
    "print(numbers_power_3)"
   ]
  },
  {
   "attachments": {},
   "cell_type": "markdown",
   "metadata": {},
   "source": [
    "## Map function with Lambda:"
   ]
  },
  {
   "attachments": {},
   "cell_type": "markdown",
   "metadata": {},
   "source": [
    "### Exercise 1: Folding the Elements of a List\n",
    "### Description: Given a list of numbers, create a new list containing each doubled number.\n",
    "### List of numbers: [1, 2, 3, 4, 5]\n",
    "### Answer: [2, 4, 6, 8, 10]"
   ]
  },
  {
   "cell_type": "code",
   "execution_count": 16,
   "metadata": {},
   "outputs": [
    {
     "name": "stdout",
     "output_type": "stream",
     "text": [
      "[2, 4, 6, 8, 10]\n"
     ]
    }
   ],
   "source": [
    "list_numbers = [1,2,3,4,5]\n",
    "\n",
    "double_numbers = list(map(lambda numb: numb*2,list_numbers))\n",
    "\n",
    "print(double_numbers)"
   ]
  },
  {
   "attachments": {},
   "cell_type": "markdown",
   "metadata": {},
   "source": [
    "### Exercise 2: Convert each element to a string and add a suffix\n",
    "### Description: Given a list of numbers, convert each element to a string and add the suffix \"kg\".\n",
    "### List of numbers: [10, 20, 30, 40, 50]\n",
    "### Answer: ['10kg', '20kg', '30kg', '40kg', '50kg']"
   ]
  },
  {
   "cell_type": "code",
   "execution_count": 17,
   "metadata": {},
   "outputs": [
    {
     "name": "stdout",
     "output_type": "stream",
     "text": [
      "['10kg', '20kg', '30kg', '40kg', '50kg']\n"
     ]
    }
   ],
   "source": [
    "list_of_numbers = [10,20,30,40,50]\n",
    "\n",
    "suffix_kg = list(map(lambda inter: str(inter)+'kg',list_of_numbers))\n",
    "\n",
    "print(suffix_kg)"
   ]
  },
  {
   "attachments": {},
   "cell_type": "markdown",
   "metadata": {},
   "source": [
    "### Exercise 3: Filter only even numbers\n",
    "### Description: Given a list of numbers, filter only even numbers.\n",
    "### List of numbers: [1, 2, 3, 4, 5, 6, 7, 8, 9, 10]\n",
    "### Answer: [2, 4, 6, 8, 10]"
   ]
  },
  {
   "cell_type": "code",
   "execution_count": 18,
   "metadata": {},
   "outputs": [
    {
     "name": "stdout",
     "output_type": "stream",
     "text": [
      "[2, 4, 6, 8, 10]\n"
     ]
    }
   ],
   "source": [
    "list_of_numbers = [1,2,3,4,5,6,7,8,9,10]\n",
    "\n",
    "numeros_pares = list(filter(None, map(lambda x: x if x % 2 == 0 else None, list_of_numbers)))\n",
    "\n",
    "print(numeros_pares)"
   ]
  },
  {
   "cell_type": "code",
   "execution_count": 19,
   "metadata": {},
   "outputs": [
    {
     "name": "stdout",
     "output_type": "stream",
     "text": [
      "[2, 4, 6, 8, 10]\n"
     ]
    }
   ],
   "source": [
    "list_of_numbers = [1, 2, 3, 4, 5, 6, 7, 8, 9, 10]\n",
    "numeros_pares = list(map(lambda x: x if x % 2 == 0 else None, list_of_numbers))\n",
    "numeros_pares = list(filter(lambda x: x is not None, numeros_pares))\n",
    "print(numeros_pares)"
   ]
  },
  {
   "attachments": {},
   "cell_type": "markdown",
   "metadata": {},
   "source": [
    "### Exercise 4: Capitalize each word\n",
    "### Description: Given a list of words, make each word uppercase.\n",
    "### Word list: [\"python\", \"is\", \"fun\"]\n",
    "### Answer: [\"PYTHON\", \"IS\", \"FUN\"]"
   ]
  },
  {
   "cell_type": "code",
   "execution_count": 20,
   "metadata": {},
   "outputs": [
    {
     "name": "stdout",
     "output_type": "stream",
     "text": [
      "['Python', 'Is', 'Fun']\n"
     ]
    }
   ],
   "source": [
    "word_list = [\"python\", \"is\", \"fun\"]\n",
    "\n",
    "right_word_list = list(map(lambda word: word.capitalize(),word_list))\n",
    "\n",
    "print(right_word_list)"
   ]
  },
  {
   "attachments": {},
   "cell_type": "markdown",
   "metadata": {},
   "source": [
    "### Exercise 5: Calculating the product of two numbers in two different lists\n",
    "### Description: Given two lists of numbers, calculate the product between the corresponding elements of the two lists.\n",
    "### List of numbers 1: [1, 2, 3, 4, 5]\n",
    "### List of numbers 2: [10, 20, 30, 40, 50]\n",
    "### Answer: [10, 40, 90, 160, 250]"
   ]
  },
  {
   "cell_type": "code",
   "execution_count": 21,
   "metadata": {},
   "outputs": [
    {
     "name": "stdout",
     "output_type": "stream",
     "text": [
      "[11, 22, 33, 44, 55]\n"
     ]
    }
   ],
   "source": [
    "list_of_numbers_1 = [1, 2, 3, 4, 5]\n",
    "list_of_numbers_2 = [10, 20, 30, 40, 50]\n",
    "\n",
    "answer = list(map(lambda x: x[0] + x[1], zip(list_of_numbers_1, list_of_numbers_2)))\n",
    "\n",
    "print(answer)"
   ]
  },
  {
   "attachments": {},
   "cell_type": "markdown",
   "metadata": {},
   "source": [
    "# Data structure:"
   ]
  },
  {
   "attachments": {},
   "cell_type": "markdown",
   "metadata": {},
   "source": [
    "## Lists of lists"
   ]
  },
  {
   "attachments": {},
   "cell_type": "markdown",
   "metadata": {},
   "source": [
    "### Exercise 1: Sum elements of inner lists\n",
    "### Description: Given a list of lists, sum the corresponding elements of each inner list and return a new list with the sums.\n",
    "### List of lists: [[1, 2, 3], [4, 5, 6], [7, 8, 9]]\n",
    "### Answer: [6, 15, 24]"
   ]
  },
  {
   "cell_type": "code",
   "execution_count": 22,
   "metadata": {},
   "outputs": [
    {
     "name": "stdout",
     "output_type": "stream",
     "text": [
      "[6, 15, 24]\n"
     ]
    }
   ],
   "source": [
    "def sum_lists(list):\n",
    "    \"\"\"\n",
    "    sums the elements of inner lists.\n",
    "\n",
    "    Args:\n",
    "        list_of_list: A list of lists\n",
    "\n",
    "    Returns:\n",
    "        A list with them sums of the inner lists.\n",
    "    \"\"\"\n",
    "\n",
    "    sums = []\n",
    "    for inner_list in list_of_lists:\n",
    "        sum = 0\n",
    "        for element in inner_list:\n",
    "            sum += element\n",
    "        sums.append(sum)\n",
    "    return sums\n",
    "\n",
    "list_of_lists = [[1,2,3],[4,5,6],[7,8,9]]\n",
    "sums = sum_lists(list_of_lists)\n",
    "print(sums)"
   ]
  },
  {
   "attachments": {},
   "cell_type": "markdown",
   "metadata": {},
   "source": [
    "### Exercise 2: Compute the product of elements of inner lists\n",
    "### Description: Given a list of lists, calculate the product between the corresponding elements of each internal list and return a new list with the products.\n",
    "### List of lists: [[2, 3, 4], [1, 2, 3], [4, 5, 6]]\n",
    "### Answer: [24, 6, 120]"
   ]
  },
  {
   "cell_type": "code",
   "execution_count": 23,
   "metadata": {},
   "outputs": [
    {
     "name": "stdout",
     "output_type": "stream",
     "text": [
      "[24, 6, 120]\n"
     ]
    }
   ],
   "source": [
    "def product_list(list_of_lists):\n",
    "  products = []\n",
    "  for inter_list in list_of_lists:\n",
    "    product = 1\n",
    "    for element in inter_list:\n",
    "      product *= element\n",
    "    products.append(product)\n",
    "  return products\n",
    "list_of_lists = [[2, 3, 4], [1, 2, 3], [4, 5, 6]]\n",
    "products = product_list(list_of_lists)\n",
    "print(products)"
   ]
  },
  {
   "attachments": {},
   "cell_type": "markdown",
   "metadata": {},
   "source": [
    "### Exercise 3: Concatenating Strings from Internal Lists\n",
    "### Description: Given a list of lists, concatenate the strings of each internal list and return a new list with the concatenated strings.\n",
    "### List of lists: [[\"Hello\", \"World\"], [\"Python\", \"is\"], [\"Cool\", \"!\"]]\n",
    "### Response: ['HelloWorld', 'Pythois', 'Nice!']"
   ]
  },
  {
   "cell_type": "code",
   "execution_count": 24,
   "metadata": {},
   "outputs": [
    {
     "name": "stdout",
     "output_type": "stream",
     "text": [
      "['helloworld', 'pythonis', 'cool!']\n"
     ]
    }
   ],
   "source": [
    "concatenated_strings = []\n",
    "def concatenate_strings(list):\n",
    "    for inter_list in list:\n",
    "        concatenated_string = \"\"\n",
    "        for element in inter_list:\n",
    "            concatenated_string += element\n",
    "        concatenated_strings.append(concatenated_string)\n",
    "    return concatenated_strings\n",
    "\n",
    "list_of_lists = [['hello','world'],['python','is'],['cool','!']]\n",
    "concatenated_strings = concatenate_strings(list_of_lists)\n",
    "print(concatenated_strings)"
   ]
  },
  {
   "attachments": {},
   "cell_type": "markdown",
   "metadata": {},
   "source": [
    "### Exercise 4: Average values in inner lists\n",
    "### Description: Given a list of lists, average the values of each inner list and return a new list with the corresponding means.\n",
    "### List of lists: [[10, 20, 30], [5, 15, 25], [8, 12, 16]]\n",
    "### Answer: [20.0, 15.0, 12.0]"
   ]
  },
  {
   "cell_type": "code",
   "execution_count": 25,
   "metadata": {},
   "outputs": [
    {
     "name": "stdout",
     "output_type": "stream",
     "text": [
      "[20.0, 15.0, 12.0]\n"
     ]
    }
   ],
   "source": [
    "avg_list = []\n",
    "def avg_lists(list):\n",
    "    for inter_list in list:\n",
    "        sum = 0\n",
    "        for element in inter_list:\n",
    "            sum += element\n",
    "        avg = sum/len(inter_list)    \n",
    "        avg_list.append(avg)    \n",
    "    return avg_list\n",
    "\n",
    "list_of_lists = [[10, 20, 30], [5, 15, 25], [8, 12, 16]]\n",
    "avg_list = avg_lists(list_of_lists)\n",
    "print(avg_list)"
   ]
  },
  {
   "attachments": {},
   "cell_type": "markdown",
   "metadata": {},
   "source": [
    "## Tuple Lists"
   ]
  },
  {
   "attachments": {},
   "cell_type": "markdown",
   "metadata": {},
   "source": [
    "### Exercise 1: Calculating the Area of Rectangles\n",
    "\n",
    "### Description: Given a list of tuples, where each tuple contains the base and height of a rectangle, calculate the area of each rectangle and return a new list with the corresponding areas.\n",
    "\n",
    "### List of tuples: [(2, 4), (3, 5), (6, 2)]\n",
    "\n",
    "### Answer: [8, 15, 12]"
   ]
  },
  {
   "cell_type": "code",
   "execution_count": 26,
   "metadata": {},
   "outputs": [
    {
     "name": "stdout",
     "output_type": "stream",
     "text": [
      "[8, 15, 12]\n"
     ]
    }
   ],
   "source": [
    "list_of_tuples = [(2,4),(3,5),(6,2)]\n",
    "def area_rectangle(list):\n",
    "  # Create a list to store the areas of the rectangles.\n",
    "  list_area = []\n",
    "  # Iterate through the list of tuples.\n",
    "  for index, inner_tuple in enumerate(list):\n",
    "    # Create a new list to store the base and height of the rectangle.\n",
    "    area = []\n",
    "    # Iterate through the tuple and add the base and height to the `area` list.\n",
    "    first_element = inner_tuple[0]\n",
    "    second_element = inner_tuple[1]\n",
    "    area.append(first_element)\n",
    "    area.append(second_element)\n",
    "    # Calculate the area of the rectangle and append it to the `list_area` list.\n",
    "    area_of_rectangle = first_element * second_element\n",
    "    list_area.append(area_of_rectangle)\n",
    "  # Return the `list_area` list.\n",
    "  return list_area\n",
    "answer = area_rectangle(list_of_tuples)\n",
    "print(answer)"
   ]
  },
  {
   "attachments": {},
   "cell_type": "markdown",
   "metadata": {},
   "source": [
    "### Exercise 2: Calculating the Product of Elements of Tuples\n",
    "\n",
    "### Description: Given a list of tuples, where each tuple contains three numbers, calculate the product between the elements of each tuple and return a new list with the products.\n",
    "\n",
    "### List of tuples: [(2, 3, 4), (1, 2, 3), (4, 5, 6)]\n",
    "\n",
    "### Answer: [24, 6, 120]"
   ]
  },
  {
   "cell_type": "code",
   "execution_count": 30,
   "metadata": {},
   "outputs": [
    {
     "name": "stdout",
     "output_type": "stream",
     "text": [
      "[24, 6, 120]\n"
     ]
    }
   ],
   "source": [
    "def product_of_elements(tuples):\n",
    "  \"\"\"\n",
    "  Calculates the product of elements of tuples.\n",
    "\n",
    "  Args:\n",
    "    tuples: A list of tuples, where each tuple contains three numbers.\n",
    "\n",
    "  Returns:\n",
    "    A new list with the products of the elements of each tuple.\n",
    "  \"\"\"\n",
    "\n",
    "  products = []\n",
    "  for tuple in tuples:\n",
    "    product = 1\n",
    "    for number in tuple:\n",
    "      product *= number\n",
    "    products.append(product)\n",
    "  return products\n",
    "\n",
    "\n",
    "if __name__ == \"__main__\":\n",
    "  tuples = [(2, 3, 4), (1, 2, 3), (4, 5, 6)]\n",
    "  products = product_of_elements(tuples)\n",
    "  print(products)"
   ]
  },
  {
   "attachments": {},
   "cell_type": "markdown",
   "metadata": {},
   "source": [
    "### Exercise 3: Concatenate Strings of Tuples\n",
    "\n",
    "### Description: Given a list of tuples, where each tuple contains two strings, concatenate the strings of each tuple and return a new list with the concatenated strings.\n",
    "\n",
    "### List of tuples: [(\"Hello\", \"World\"), (\"Python\", \"yeah\"), (\"Cool\", \"!\")]\n",
    "\n",
    "### Response: ['HelloWorld', 'Pythois', 'Nice!']"
   ]
  },
  {
   "cell_type": "code",
   "execution_count": 28,
   "metadata": {},
   "outputs": [
    {
     "name": "stdout",
     "output_type": "stream",
     "text": [
      "['HelloWorld', 'Pythonyeah', 'Cool!']\n"
     ]
    }
   ],
   "source": [
    "list_of_tuples = [(\"Hello\", \"World\"), (\"Python\", \"yeah\"), (\"Cool\", \"!\")]\n",
    "def string_tuples(list):\n",
    "    list_concatenated = []\n",
    "    for index, inner_tuple in enumerate(list):\n",
    "        concatenated_strings = inner_tuple[0] + inner_tuple[1]\n",
    "        list_concatenated.append(concatenated_strings)\n",
    "    return list_concatenated\n",
    "answer = string_tuples(list_of_tuples)\n",
    "print(answer)"
   ]
  },
  {
   "attachments": {},
   "cell_type": "markdown",
   "metadata": {},
   "source": [
    "### Exercise 4: Calculate the average of values in tuples\n",
    "\n",
    "### Description: Given a list of tuples, where each tuple contains four numeric values, average the values of each tuple and return a new list with the corresponding averages.\n",
    "\n",
    "### List of tuples: [(10, 20, 30, 40), (5, 15, 25, 35), (8, 12, 16, 20)]\n",
    "\n",
    "### Answer: [25.0, 20.0, 14.0]"
   ]
  },
  {
   "cell_type": "code",
   "execution_count": 29,
   "metadata": {},
   "outputs": [
    {
     "name": "stdout",
     "output_type": "stream",
     "text": [
      "[25.0, 20.0, 14.0]\n"
     ]
    }
   ],
   "source": [
    "def calculate_average_of_tuples(tuples_list):\n",
    "    averages = []\n",
    "    for tpl in tuples_list:\n",
    "        average = sum(tpl) / len(tpl)\n",
    "        averages.append(average)\n",
    "    return averages\n",
    "\n",
    "# Example usage\n",
    "tuples_list = [(10, 20, 30, 40), (5, 15, 25, 35), (8, 12, 16, 20)]\n",
    "averages = calculate_average_of_tuples(tuples_list)\n",
    "print(averages)\n"
   ]
  },
  {
   "attachments": {},
   "cell_type": "markdown",
   "metadata": {},
   "source": [
    "## List comprehension:"
   ]
  },
  {
   "attachments": {},
   "cell_type": "markdown",
   "metadata": {},
   "source": [
    "### Exercise 1 (Beginner):\n",
    "### Write a list comprehension that generates a list of the first 10 even numbers.\n",
    "### Output: [2, 4, 6, 8, 10, 12, 14, 16, 18, 20]"
   ]
  },
  {
   "cell_type": "code",
   "execution_count": 4,
   "metadata": {},
   "outputs": [
    {
     "data": {
      "text/plain": [
       "['a',\n",
       " 'b',\n",
       " 'c',\n",
       " 'd',\n",
       " 'e',\n",
       " 'f',\n",
       " 'g',\n",
       " 'h',\n",
       " 'i',\n",
       " 'j',\n",
       " 'k',\n",
       " 'l',\n",
       " 'm',\n",
       " 'n',\n",
       " 'o',\n",
       " 'p',\n",
       " 'q',\n",
       " 'r',\n",
       " 's',\n",
       " 't',\n",
       " 'u',\n",
       " 'v',\n",
       " 'w',\n",
       " 'x',\n",
       " 'y',\n",
       " 'z']"
      ]
     },
     "execution_count": 4,
     "metadata": {},
     "output_type": "execute_result"
    }
   ],
   "source": [
    "alphabet = [chr(x) for x in range(ord('a'), ord('z')+1)]\n",
    "alphabet"
   ]
  },
  {
   "attachments": {},
   "cell_type": "markdown",
   "metadata": {},
   "source": [
    "### Exercise 2 (Beginner):\n",
    "### Write a list comprehension that generates a list of the squares of numbers from 1 to 10.\n",
    "\n",
    "### Input: None\n",
    "### Output: [1, 4, 9, 16, 25, 36, 49, 64, 81, 100]"
   ]
  },
  {
   "cell_type": "code",
   "execution_count": 3,
   "metadata": {},
   "outputs": [
    {
     "data": {
      "text/plain": [
       "[1, 2, 3, 4, 5, 6, 7, 8, 9]"
      ]
     },
     "execution_count": 3,
     "metadata": {},
     "output_type": "execute_result"
    }
   ],
   "source": [
    "list = [x for x in range(1,10)]\n",
    "list"
   ]
  },
  {
   "attachments": {},
   "cell_type": "markdown",
   "metadata": {},
   "source": [
    "### Exercise 3 (Intermediate):\n",
    "### Write a list comprehension that filters out the vowels from a given word.\n",
    "\n",
    "### Input: word = \"hello\"\n",
    "### Output: ['h', 'l', 'l']"
   ]
  },
  {
   "cell_type": "code",
   "execution_count": 9,
   "metadata": {},
   "outputs": [
    {
     "data": {
      "text/plain": [
       "['h', 'l', 'l']"
      ]
     },
     "execution_count": 9,
     "metadata": {},
     "output_type": "execute_result"
    }
   ],
   "source": [
    "word = 'hello'\n",
    "vowels = ['a','e','i','o','u']\n",
    "filters_out_vowels = [ ch for ch in word if ch.lower() not in vowels]\n",
    "filters_out_vowels"
   ]
  },
  {
   "attachments": {},
   "cell_type": "markdown",
   "metadata": {},
   "source": [
    "### Exercise 4 (Intermediate):\n",
    "### Write a list comprehension that combines two lists by taking the element at the same index from each list.\n",
    "\n",
    "### Input: list1 = [1, 2, 3, 4], list2 = ['a', 'b', 'c', 'd']\n",
    "### Output: [(1, 'a'), (2, 'b'), (3, 'c'), (4, 'd')]"
   ]
  },
  {
   "cell_type": "code",
   "execution_count": 32,
   "metadata": {},
   "outputs": [
    {
     "name": "stdout",
     "output_type": "stream",
     "text": [
      "[(1, 'a'), (2, 'b'), (3, 'c'), (4, 'd')]\n"
     ]
    }
   ],
   "source": [
    "list1 = [1,2,3,4]\n",
    "list2 = ['a','b','c','d']\n",
    "combined_list = [(x,y) for x, y in zip(list1, list2)]\n",
    "print(combined_list)"
   ]
  },
  {
   "attachments": {},
   "cell_type": "markdown",
   "metadata": {},
   "source": [
    "### Exercise 5 (Advanced):\n",
    "### Write a list comprehension that generates a list of prime numbers between 1 and 100.\n",
    "\n",
    "### Input: None\n",
    "### Output: [2, 3, 5, 7, 11, 13, 17, 19, 23, 29, 31, 37, 41, 43, 47, 53, 59, 61, 67, 71, 73, 79, 83, 89, 97]"
   ]
  },
  {
   "cell_type": "code",
   "execution_count": 34,
   "metadata": {},
   "outputs": [
    {
     "data": {
      "text/plain": [
       "[2,\n",
       " 3,\n",
       " 5,\n",
       " 7,\n",
       " 11,\n",
       " 13,\n",
       " 17,\n",
       " 19,\n",
       " 23,\n",
       " 29,\n",
       " 31,\n",
       " 37,\n",
       " 41,\n",
       " 43,\n",
       " 47,\n",
       " 53,\n",
       " 59,\n",
       " 61,\n",
       " 67,\n",
       " 71,\n",
       " 73,\n",
       " 79,\n",
       " 83,\n",
       " 89,\n",
       " 97]"
      ]
     },
     "execution_count": 34,
     "metadata": {},
     "output_type": "execute_result"
    }
   ],
   "source": [
    "prime_numbers = [x for x in range(2, 100) if all(x % i for i in range(2, x))]\n",
    "prime_numbers"
   ]
  },
  {
   "attachments": {},
   "cell_type": "markdown",
   "metadata": {},
   "source": [
    "## Dict comprehension"
   ]
  },
  {
   "attachments": {},
   "cell_type": "markdown",
   "metadata": {},
   "source": [
    "### Exercise 1 (Beginner):\n",
    "### Write a dictionary comprehension that generates a dictionary mapping numbers from 1 to 5 to their squares.\n",
    "\n",
    "### Input: None\n",
    "### Output: {1: 1, 2: 4, 3: 9, 4: 16, 5: 25}"
   ]
  },
  {
   "cell_type": "code",
   "execution_count": 41,
   "metadata": {},
   "outputs": [
    {
     "name": "stdout",
     "output_type": "stream",
     "text": [
      "{1: 1, 2: 4, 3: 9, 4: 16}\n",
      "[1, 4, 9, 16]\n"
     ]
    }
   ],
   "source": [
    "dictionary = {x: x ** 2 for x in range(1,5)}\n",
    "print(dictionary)\n",
    "list = [x ** 2 for x in range(1,5)]\n",
    "print(list)"
   ]
  },
  {
   "attachments": {},
   "cell_type": "markdown",
   "metadata": {},
   "source": [
    "### Exercise 2 (Beginner):\n",
    "### Write a dictionary comprehension that swaps the keys and values of a given dictionary.\n",
    "\n",
    "### Input: original_dict = {'a': 1, 'b': 2, 'c': 3}\n",
    "### Output: {1: 'a', 2: 'b', 3: 'c'}"
   ]
  },
  {
   "cell_type": "code",
   "execution_count": 43,
   "metadata": {},
   "outputs": [
    {
     "data": {
      "text/plain": [
       "{1: 'a', 2: 'b', 3: 'c'}"
      ]
     },
     "execution_count": 43,
     "metadata": {},
     "output_type": "execute_result"
    }
   ],
   "source": [
    "original_dict = {'a': 1, 'b': 2, 'c': 3}\n",
    "swap_keys = {value: key for key, value in original_dict.items()}\n",
    "swap_keys"
   ]
  },
  {
   "attachments": {},
   "cell_type": "markdown",
   "metadata": {},
   "source": [
    "### Exercise 3 (Intermediate):\n",
    "### Write a dictionary comprehension that filters out the key-value pairs from a given dictionary where the value is even.\n",
    "### Input: original_dict = {'a': 1, 'b': 2, 'c': 3, 'd': 4, 'e': 5}\n",
    "### Output: {'a': 1, 'c': 3, 'e': 5}"
   ]
  },
  {
   "cell_type": "code",
   "execution_count": 44,
   "metadata": {},
   "outputs": [
    {
     "data": {
      "text/plain": [
       "{'a': 1, 'c': 3, 'e': 5}"
      ]
     },
     "execution_count": 44,
     "metadata": {},
     "output_type": "execute_result"
    }
   ],
   "source": [
    "original_dict = {'a': 1, 'b': 2, 'c': 3, 'd': 4, 'e': 5}\n",
    "new_dict = {key: value for key, value in original_dict.items() if not value%2==0}\n",
    "new_dict"
   ]
  },
  {
   "attachments": {},
   "cell_type": "markdown",
   "metadata": {},
   "source": [
    "### Exercise 4 (Intermediate):\n",
    "### Write a dictionary comprehension that creates a new dictionary by excluding key-value pairs with duplicate values from a given dictionary.\n",
    "\n",
    "### Input: original_dict = {'a': 1, 'b': 2, 'c': 1, 'd': 3, 'e': 2}\n",
    "### Output: {'d': 3}"
   ]
  },
  {
   "cell_type": "code",
   "execution_count": 48,
   "metadata": {},
   "outputs": [
    {
     "name": "stdout",
     "output_type": "stream",
     "text": [
      "{'d': 3}\n"
     ]
    }
   ],
   "source": [
    "original_dict = {'a': 1, 'b': 2, 'c': 1, 'd': 3, 'e': 2}\n",
    "new_dict = {key: value for key, value in original_dict.items() if value not in new_dict.values() and value != 2}\n",
    "print(new_dict)"
   ]
  },
  {
   "attachments": {},
   "cell_type": "markdown",
   "metadata": {},
   "source": [
    "### Exercise 5 (Advanced):\n",
    "### Write a dictionary comprehension that generates a dictionary where the keys are numbers from 1 to 10, and the values are lists containing the squares and cubes of the respective keys.\n",
    "\n",
    "### Input: None\n",
    "### Output:{\n",
    "###   1: [1, 1],\n",
    "###   2: [4, 8],\n",
    "###   3: [9, 27],\n",
    "###   4: [16, 64],\n",
    "###   5: [25, 125],\n",
    "###   6: [36, 216],\n",
    "###   7: [49, 343],\n",
    "###   8: [64, 512],\n",
    "###   9: [81, 729],\n",
    "###   10: [100, 1000]\n",
    "### }"
   ]
  },
  {
   "cell_type": "code",
   "execution_count": 49,
   "metadata": {},
   "outputs": [
    {
     "data": {
      "text/plain": [
       "{1: [1, 1],\n",
       " 2: [4, 8],\n",
       " 3: [9, 27],\n",
       " 4: [16, 64],\n",
       " 5: [25, 125],\n",
       " 6: [36, 216],\n",
       " 7: [49, 343],\n",
       " 8: [64, 512],\n",
       " 9: [81, 729],\n",
       " 10: [100, 1000]}"
      ]
     },
     "execution_count": 49,
     "metadata": {},
     "output_type": "execute_result"
    }
   ],
   "source": [
    "result = {key: [key ** 2, key ** 3] for key in range(1, 11)}\n",
    "result"
   ]
  },
  {
   "attachments": {},
   "cell_type": "markdown",
   "metadata": {},
   "source": [
    "# Exceptions"
   ]
  },
  {
   "attachments": {},
   "cell_type": "markdown",
   "metadata": {},
   "source": [
    "### Exercise 1 (Beginner):\n",
    "### Write a try-except block that handles a ZeroDivisionError and prints \"Cannot divide by zero!\" if such an error occurs.\n",
    "\n",
    "### Input: None\n",
    "### Output: Prints \"Cannot divide by zero!\" if a ZeroDivisionError occurs."
   ]
  },
  {
   "cell_type": "code",
   "execution_count": 1,
   "metadata": {},
   "outputs": [
    {
     "name": "stdout",
     "output_type": "stream",
     "text": [
      "5.0\n",
      "Cannot divide by zero\n",
      "None\n"
     ]
    }
   ],
   "source": [
    "def divide(x, y):\n",
    "    try:\n",
    "        return x / y\n",
    "    except ZeroDivisionError:\n",
    "        print(\"Cannot divide by zero\")\n",
    "\n",
    "print(divide(10, 2))\n",
    "print(divide(10,0))"
   ]
  },
  {
   "attachments": {},
   "cell_type": "markdown",
   "metadata": {},
   "source": [
    "### Exercise 2 (Beginner):\n",
    "### Write a try-except block that handles a ValueError and prints \"Invalid input!\" if the user enters a non-integer value.\n",
    "\n",
    "### Input: User input (a number)\n",
    "### Output: Prints \"Invalid input!\" if a ValueError occurs."
   ]
  },
  {
   "cell_type": "code",
   "execution_count": 4,
   "metadata": {},
   "outputs": [],
   "source": [
    "def try_except_value_error():\n",
    "    try:\n",
    "        user_input = int(input(\"Enter a number: \"))\n",
    "    except ValueError:\n",
    "        print(\"Invalid input!\")\n",
    "\n",
    "try_except_value_error()"
   ]
  },
  {
   "attachments": {},
   "cell_type": "markdown",
   "metadata": {},
   "source": [
    "### Exercise 3 (Intermediate):\n",
    "### Write a try-except-else block that attempts to open a file, reads its contents, and prints the number of lines if successful. If the file does not exist, it should handle the FileNotFoundError and print \"File not found!\".\n",
    "\n",
    "### Input: None (Assuming file.txt exists)\n",
    "### Output: Prints the number of lines in the file if successful; Prints \"File not found!\" if FileNotFoundError occurs."
   ]
  },
  {
   "cell_type": "code",
   "execution_count": 1,
   "metadata": {},
   "outputs": [
    {
     "name": "stdout",
     "output_type": "stream",
     "text": [
      "File not found! [Errno 2] No such file or directory: 'file.txt'\n"
     ]
    }
   ],
   "source": []
  },
  {
   "attachments": {},
   "cell_type": "markdown",
   "metadata": {},
   "source": [
    "### Exercise 4 (Intermediate):\n",
    "### Write a try-except-finally block that attempts to perform a risky operation, catches any exception, and prints \"An error occurred!\" in the except block. The finally block should always execute and print \"Finally block executed!\".\n",
    "\n",
    "### Input: None\n",
    "### Output: Prints \"An error occurred!\" in the except block; Prints \"Finally block executed!\" in the finally block."
   ]
  },
  {
   "cell_type": "code",
   "execution_count": 2,
   "metadata": {},
   "outputs": [
    {
     "name": "stdout",
     "output_type": "stream",
     "text": [
      "An error occurred! division by zero\n",
      "Finally block executed!\n"
     ]
    }
   ],
   "source": [
    "def try_except_finally():\n",
    "    try:\n",
    "        # This operation will always raise an exception\n",
    "        1 / 0\n",
    "    except Exception as e:\n",
    "        print(\"An error occurred!\", e)\n",
    "    finally:\n",
    "        print(\"Finally block executed!\")\n",
    "\n",
    "try_except_finally()"
   ]
  },
  {
   "attachments": {},
   "cell_type": "markdown",
   "metadata": {},
   "source": [
    "### Exercise 5 (Advanced):\n",
    "### Write a custom exception class called NegativeNumberError. Then, write a function that takes a number as input and raises a NegativeNumberError if the number is negative. Finally, use a try-except block to catch and handle the custom exception.\n",
    "\n",
    "### Input: User input (a number)\n",
    "### Output: Prints the custom exception message (\"Negative numbers are not allowed!\") if a NegativeNumberError occurs.\n"
   ]
  },
  {
   "cell_type": "code",
   "execution_count": 3,
   "metadata": {},
   "outputs": [
    {
     "name": "stdout",
     "output_type": "stream",
     "text": [
      "Negative numbers are not allowed!\n"
     ]
    }
   ],
   "source": [
    "class NegativeNumberError(Exception):\n",
    "    \"\"\"\n",
    "    A custom exception class for negative numbers.\n",
    "    \"\"\"\n",
    "\n",
    "    def __init__(self, message=\"Negative numbers are not allowed!\"):\n",
    "        super().__init__(message)\n",
    "\n",
    "def validate_number(number):\n",
    "    if number < 0:\n",
    "        raise NegativeNumberError()\n",
    "\n",
    "try:\n",
    "    validate_number(-10)\n",
    "except NegativeNumberError as e:\n",
    "    print(e)"
   ]
  },
  {
   "attachments": {},
   "cell_type": "markdown",
   "metadata": {},
   "source": []
  }
 ],
 "metadata": {
  "kernelspec": {
   "display_name": "Python 3",
   "language": "python",
   "name": "python3"
  },
  "language_info": {
   "codemirror_mode": {
    "name": "ipython",
    "version": 3
   },
   "file_extension": ".py",
   "mimetype": "text/x-python",
   "name": "python",
   "nbconvert_exporter": "python",
   "pygments_lexer": "ipython3",
   "version": "3.10.12"
  },
  "orig_nbformat": 4
 },
 "nbformat": 4,
 "nbformat_minor": 2
}
