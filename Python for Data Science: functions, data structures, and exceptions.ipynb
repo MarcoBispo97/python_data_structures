{
 "cells": [
  {
   "attachments": {},
   "cell_type": "markdown",
   "metadata": {},
   "source": [
    "# Functions:"
   ]
  },
  {
   "attachments": {},
   "cell_type": "markdown",
   "metadata": {},
   "source": [
    "## Normal Functions:"
   ]
  },
  {
   "attachments": {},
   "cell_type": "markdown",
   "metadata": {},
   "source": [
    "### Write a Python function called \"sum\" that takes two numbers as parameters and returns their sum."
   ]
  },
  {
   "cell_type": "code",
   "execution_count": 1,
   "metadata": {},
   "outputs": [
    {
     "data": {
      "text/plain": [
       "18"
      ]
     },
     "execution_count": 1,
     "metadata": {},
     "output_type": "execute_result"
    }
   ],
   "source": [
    "def sum_ab(a,b):\n",
    "    c = a + b\n",
    "    return c\n",
    "\n",
    "sum_ab(8,10)"
   ]
  },
  {
   "attachments": {},
   "cell_type": "markdown",
   "metadata": {},
   "source": [
    "### Write a function called \"greatest_number\" that takes a list of numbers as a parameter and returns the largest number in the list."
   ]
  },
  {
   "cell_type": "code",
   "execution_count": 2,
   "metadata": {},
   "outputs": [
    {
     "data": {
      "text/plain": [
       "120"
      ]
     },
     "execution_count": 2,
     "metadata": {},
     "output_type": "execute_result"
    }
   ],
   "source": [
    "def greatest_number(list):\n",
    "    list.sort(reverse=True)\n",
    "    number = list[0]\n",
    "    return number\n",
    "\n",
    "list1=[1,2,3,4,5,6,7,8,9,10,80,120]\n",
    "\n",
    "greatest_number(list1)"
   ]
  },
  {
   "attachments": {},
   "cell_type": "markdown",
   "metadata": {},
   "source": [
    "### Write a function called \"average\" that takes a list of numbers as a parameter and returns the arithmetic mean of the elements in the list."
   ]
  },
  {
   "cell_type": "code",
   "execution_count": 4,
   "metadata": {},
   "outputs": [
    {
     "data": {
      "text/plain": [
       "5.0"
      ]
     },
     "execution_count": 4,
     "metadata": {},
     "output_type": "execute_result"
    }
   ],
   "source": [
    "list1 = [1,2,3,4,5,6,7,8,9]\n",
    "def avarege(list):\n",
    "    size_list =len(list)\n",
    "    sum_list = sum(list)\n",
    "    num_avarage = sum_list/size_list\n",
    "    return num_avarage\n",
    "\n",
    "avarege(list1)"
   ]
  },
  {
   "attachments": {},
   "cell_type": "markdown",
   "metadata": {},
   "source": [
    "### Write a function called \"even_or_odd\" that takes a number as a parameter and returns \"even\" if the number is even, or \"odd\" if the number is odd."
   ]
  },
  {
   "cell_type": "code",
   "execution_count": 6,
   "metadata": {},
   "outputs": [
    {
     "name": "stdout",
     "output_type": "stream",
     "text": [
      "It is odd\n"
     ]
    }
   ],
   "source": [
    "def even_or_odd(number):\n",
    "    if number % 2 == 0:\n",
    "        return \"even\"\n",
    "    else:\n",
    "        return \"odd\"\n",
    "\n",
    "result = even_or_odd(5)\n",
    "print(\"It is\", result)"
   ]
  },
  {
   "attachments": {},
   "cell_type": "markdown",
   "metadata": {},
   "source": [
    "### Write a function called \"factorial\" that takes an integer as a parameter and returns the factorial of that number. The factorial of a number is the product of all integers from 1 to the number itself."
   ]
  },
  {
   "cell_type": "code",
   "execution_count": 13,
   "metadata": {},
   "outputs": [
    {
     "name": "stdout",
     "output_type": "stream",
     "text": [
      "The factorial of 6 is: 720\n"
     ]
    }
   ],
   "source": [
    "def factorial(number):\n",
    "    if number < 0:\n",
    "        return \"Factorial is not defined for negative numbers.\"\n",
    "    elif number == 0 or number == 1:\n",
    "        return 1\n",
    "    else:\n",
    "        result = 1\n",
    "        for i in range(2, number + 1):\n",
    "            result *= i\n",
    "        return result\n",
    "num = 6\n",
    "result = factorial(num)\n",
    "print('The factorial of', num, 'is:', result)"
   ]
  },
  {
   "attachments": {},
   "cell_type": "markdown",
   "metadata": {},
   "source": [
    "## Lambda function:"
   ]
  },
  {
   "attachments": {},
   "cell_type": "markdown",
   "metadata": {},
   "source": [
    "### Lambda function that returns the square of a number:"
   ]
  },
  {
   "cell_type": "code",
   "execution_count": 1,
   "metadata": {},
   "outputs": [
    {
     "name": "stdout",
     "output_type": "stream",
     "text": [
      "Olá mundo\n"
     ]
    }
   ],
   "source": []
  },
  {
   "attachments": {},
   "cell_type": "markdown",
   "metadata": {},
   "source": [
    "### Lambda function that checks if a number is even:"
   ]
  },
  {
   "cell_type": "code",
   "execution_count": null,
   "metadata": {},
   "outputs": [],
   "source": []
  },
  {
   "attachments": {},
   "cell_type": "markdown",
   "metadata": {},
   "source": [
    "### Lambda function that returns the sum of two numbers:"
   ]
  },
  {
   "cell_type": "code",
   "execution_count": null,
   "metadata": {},
   "outputs": [],
   "source": []
  },
  {
   "attachments": {},
   "cell_type": "markdown",
   "metadata": {},
   "source": [
    "### Lambda function that returns the absolute value of a number:"
   ]
  },
  {
   "cell_type": "code",
   "execution_count": null,
   "metadata": {},
   "outputs": [],
   "source": []
  },
  {
   "attachments": {},
   "cell_type": "markdown",
   "metadata": {},
   "source": [
    "### Lambda function that checks if a word is a palindrome (reads the same backwards):"
   ]
  },
  {
   "cell_type": "code",
   "execution_count": null,
   "metadata": {},
   "outputs": [],
   "source": []
  },
  {
   "attachments": {},
   "cell_type": "markdown",
   "metadata": {},
   "source": [
    "### Lambda function that returns the double of each element in a list:"
   ]
  },
  {
   "cell_type": "code",
   "execution_count": null,
   "metadata": {},
   "outputs": [],
   "source": []
  },
  {
   "attachments": {},
   "cell_type": "markdown",
   "metadata": {},
   "source": [
    "### Lambda function that returns a function to calculate the squared value:"
   ]
  },
  {
   "cell_type": "code",
   "execution_count": null,
   "metadata": {},
   "outputs": [],
   "source": []
  },
  {
   "attachments": {},
   "cell_type": "markdown",
   "metadata": {},
   "source": [
    "## MAP function:"
   ]
  },
  {
   "attachments": {},
   "cell_type": "markdown",
   "metadata": {},
   "source": [
    "### Exercise 1: Convert Temperatures. In this exercise, we are going to convert a list of temperatures in degrees Celsius to Fahrenheit using the map() function. List of temperatures in Celsius: temperatures_celsius = [25, 30, 15, 20, 10]"
   ]
  },
  {
   "cell_type": "code",
   "execution_count": null,
   "metadata": {},
   "outputs": [],
   "source": []
  },
  {
   "attachments": {},
   "cell_type": "markdown",
   "metadata": {},
   "source": [
    "### Exercise 2: Calculating Word Length In this exercise, we will calculate the length of each word in a list of words using the map() function. Wordlist, words = [\"Python\", \"is\", \"a\", \"language\", \"of\", \"programming\"]"
   ]
  },
  {
   "cell_type": "code",
   "execution_count": null,
   "metadata": {},
   "outputs": [],
   "source": []
  },
  {
   "attachments": {},
   "cell_type": "markdown",
   "metadata": {},
   "source": [
    "### Exercise 3: Converting Numbers to Strings In this exercise, we are going to convert a list of integers into a list of strings using the map() function.List of integers numbers = [10, 20, 30, 40, 50]"
   ]
  },
  {
   "cell_type": "code",
   "execution_count": null,
   "metadata": {},
   "outputs": [],
   "source": []
  },
  {
   "attachments": {},
   "cell_type": "markdown",
   "metadata": {},
   "source": [
    "### Exercise 4: Raising Numbers to Powers In this exercise, we will raise each number in a list to a power using the map() function.\n",
    "### List of numbers numbers = [2, 3, 4, 5], Desired power power = 3"
   ]
  },
  {
   "cell_type": "code",
   "execution_count": null,
   "metadata": {},
   "outputs": [],
   "source": []
  },
  {
   "attachments": {},
   "cell_type": "markdown",
   "metadata": {},
   "source": [
    "## Map function with Lambda:"
   ]
  },
  {
   "attachments": {},
   "cell_type": "markdown",
   "metadata": {},
   "source": [
    "### Exercise 1: Folding the Elements of a List\n",
    "### Description: Given a list of numbers, create a new list containing each doubled number.\n",
    "### List of numbers: [1, 2, 3, 4, 5]\n",
    "### Answer: [2, 4, 6, 8, 10]"
   ]
  },
  {
   "cell_type": "code",
   "execution_count": null,
   "metadata": {},
   "outputs": [],
   "source": []
  },
  {
   "attachments": {},
   "cell_type": "markdown",
   "metadata": {},
   "source": [
    "### Exercise 2: Convert each element to a string and add a suffix\n",
    "### Description: Given a list of numbers, convert each element to a string and add the suffix \"kg\".\n",
    "### List of numbers: [10, 20, 30, 40, 50]\n",
    "### Answer: ['10kg', '20kg', '30kg', '40kg', '50kg']"
   ]
  },
  {
   "cell_type": "code",
   "execution_count": null,
   "metadata": {},
   "outputs": [],
   "source": []
  },
  {
   "attachments": {},
   "cell_type": "markdown",
   "metadata": {},
   "source": [
    "### Exercise 3: Filter only even numbers\n",
    "### Description: Given a list of numbers, filter only even numbers.\n",
    "### List of numbers: [1, 2, 3, 4, 5, 6, 7, 8, 9, 10]\n",
    "### Answer: [2, 4, 6, 8, 10]"
   ]
  },
  {
   "cell_type": "code",
   "execution_count": null,
   "metadata": {},
   "outputs": [],
   "source": []
  },
  {
   "attachments": {},
   "cell_type": "markdown",
   "metadata": {},
   "source": [
    "### Exercise 4: Capitalize each word\n",
    "### Description: Given a list of words, make each word uppercase.\n",
    "### Word list: [\"python\", \"is\", \"fun\"]\n",
    "### Answer: [\"PYTHON\", \"IS\", \"FUN\"]"
   ]
  },
  {
   "cell_type": "code",
   "execution_count": null,
   "metadata": {},
   "outputs": [],
   "source": []
  },
  {
   "attachments": {},
   "cell_type": "markdown",
   "metadata": {},
   "source": [
    "### Exercise 5: Calculating the product of two numbers in two different lists\n",
    "### Description: Given two lists of numbers, calculate the product between the corresponding elements of the two lists.\n",
    "### List of numbers 1: [1, 2, 3, 4, 5]\n",
    "### List of numbers 2: [10, 20, 30, 40, 50]\n",
    "### Answer: [10, 40, 90, 160, 250]"
   ]
  },
  {
   "cell_type": "code",
   "execution_count": null,
   "metadata": {},
   "outputs": [],
   "source": []
  },
  {
   "attachments": {},
   "cell_type": "markdown",
   "metadata": {},
   "source": [
    "# Data structure:"
   ]
  },
  {
   "attachments": {},
   "cell_type": "markdown",
   "metadata": {},
   "source": [
    "## Lists of lists"
   ]
  },
  {
   "attachments": {},
   "cell_type": "markdown",
   "metadata": {},
   "source": [
    "### Exercise 1: Sum elements of inner lists\n",
    "### Description: Given a list of lists, sum the corresponding elements of each inner list and return a new list with the sums.\n",
    "### List of lists: [[1, 2, 3], [4, 5, 6], [7, 8, 9]]\n",
    "### Answer: [6, 15, 24]"
   ]
  },
  {
   "cell_type": "code",
   "execution_count": null,
   "metadata": {},
   "outputs": [],
   "source": []
  },
  {
   "attachments": {},
   "cell_type": "markdown",
   "metadata": {},
   "source": [
    "### Exercise 2: Compute the product of elements of inner lists\n",
    "### Description: Given a list of lists, calculate the product between the corresponding elements of each internal list and return a new list with the products.\n",
    "### List of lists: [[2, 3, 4], [1, 2, 3], [4, 5, 6]]\n",
    "### Answer: [24, 6, 120]"
   ]
  },
  {
   "cell_type": "code",
   "execution_count": null,
   "metadata": {},
   "outputs": [],
   "source": []
  },
  {
   "attachments": {},
   "cell_type": "markdown",
   "metadata": {},
   "source": [
    "### Exercise 3: Concatenating Strings from Internal Lists\n",
    "###Description: Given a list of lists, concatenate the strings of each internal list and return a new list with the concatenated strings.\n",
    "### List of lists: [[\"Hello\", \"World\"], [\"Python\", \"is\"], [\"Cool\", \"!\"]]\n",
    "### Response: ['HelloWorld', 'Pythois', 'Nice!']"
   ]
  },
  {
   "cell_type": "code",
   "execution_count": null,
   "metadata": {},
   "outputs": [],
   "source": []
  },
  {
   "attachments": {},
   "cell_type": "markdown",
   "metadata": {},
   "source": [
    "### Exercise 4: Average values in inner lists\n",
    "### Description: Given a list of lists, average the values of each inner list and return a new list with the corresponding means.\n",
    "### List of lists: [[10, 20, 30], [5, 15, 25], [8, 12, 16]]\n",
    "### Answer: [20.0, 15.0, 12.0]"
   ]
  },
  {
   "cell_type": "code",
   "execution_count": null,
   "metadata": {},
   "outputs": [],
   "source": []
  },
  {
   "attachments": {},
   "cell_type": "markdown",
   "metadata": {},
   "source": [
    "## Tuple Lists"
   ]
  },
  {
   "attachments": {},
   "cell_type": "markdown",
   "metadata": {},
   "source": [
    "### Exercise 1: Calculating the Area of Rectangles\n",
    "\n",
    "### Description: Given a list of tuples, where each tuple contains the base and height of a rectangle, calculate the area of each rectangle and return a new list with the corresponding areas.\n",
    "\n",
    "### List of tuples: [(2, 4), (3, 5), (6, 2)]\n",
    "\n",
    "### Answer: [8, 15, 12]"
   ]
  },
  {
   "cell_type": "code",
   "execution_count": null,
   "metadata": {},
   "outputs": [],
   "source": []
  },
  {
   "attachments": {},
   "cell_type": "markdown",
   "metadata": {},
   "source": [
    "### Exercise 2: Calculating the Product of Elements of Tuples\n",
    "\n",
    "### Description: Given a list of tuples, where each tuple contains three numbers, calculate the product between the elements of each tuple and return a new list with the products.\n",
    "\n",
    "### List of tuples: [(2, 3, 4), (1, 2, 3), (4, 5, 6)]\n",
    "\n",
    "### Answer: [24, 6, 120]"
   ]
  },
  {
   "cell_type": "code",
   "execution_count": null,
   "metadata": {},
   "outputs": [],
   "source": []
  },
  {
   "attachments": {},
   "cell_type": "markdown",
   "metadata": {},
   "source": [
    "### Exercise 3: Concatenate Strings of Tuples\n",
    "\n",
    "### Description: Given a list of tuples, where each tuple contains two strings, concatenate the strings of each tuple and return a new list with the concatenated strings.\n",
    "\n",
    "### List of tuples: [(\"Hello\", \"World\"), (\"Python\", \"yeah\"), (\"Cool\", \"!\")]\n",
    "\n",
    "### Response: ['HelloWorld', 'Pythois', 'Nice!']"
   ]
  },
  {
   "cell_type": "code",
   "execution_count": null,
   "metadata": {},
   "outputs": [],
   "source": []
  },
  {
   "attachments": {},
   "cell_type": "markdown",
   "metadata": {},
   "source": [
    "### Exercise 4: Calculate the average of values in tuples\n",
    "\n",
    "### Description: Given a list of tuples, where each tuple contains four numeric values, average the values of each tuple and return a new list with the corresponding averages.\n",
    "\n",
    "### List of tuples: [(10, 20, 30, 40), (5, 15, 25, 35), (8, 12, 16, 20)]\n",
    "\n",
    "### Answer: [25.0, 20.0, 14.0]"
   ]
  },
  {
   "cell_type": "code",
   "execution_count": null,
   "metadata": {},
   "outputs": [],
   "source": []
  },
  {
   "attachments": {},
   "cell_type": "markdown",
   "metadata": {},
   "source": [
    "## List comprehension:"
   ]
  },
  {
   "attachments": {},
   "cell_type": "markdown",
   "metadata": {},
   "source": [
    "### Exercise 1 (Beginner):\n",
    "### Write a list comprehension that generates a list of the first 10 even numbers.\n",
    "### Output: [2, 4, 6, 8, 10, 12, 14, 16, 18, 20]"
   ]
  },
  {
   "cell_type": "code",
   "execution_count": null,
   "metadata": {},
   "outputs": [],
   "source": []
  },
  {
   "attachments": {},
   "cell_type": "markdown",
   "metadata": {},
   "source": [
    "### Exercise 2 (Beginner):\n",
    "### Write a list comprehension that generates a list of the squares of numbers from 1 to 10.\n",
    "\n",
    "### Input: None\n",
    "### Output: [1, 4, 9, 16, 25, 36, 49, 64, 81, 100]"
   ]
  },
  {
   "cell_type": "code",
   "execution_count": null,
   "metadata": {},
   "outputs": [],
   "source": []
  },
  {
   "attachments": {},
   "cell_type": "markdown",
   "metadata": {},
   "source": [
    "### Exercise 3 (Intermediate):\n",
    "### Write a list comprehension that filters out the vowels from a given word.\n",
    "\n",
    "### Input: word = \"hello\"\n",
    "### Output: ['h', 'l', 'l']"
   ]
  },
  {
   "cell_type": "code",
   "execution_count": null,
   "metadata": {},
   "outputs": [],
   "source": []
  },
  {
   "attachments": {},
   "cell_type": "markdown",
   "metadata": {},
   "source": [
    "### Exercise 4 (Intermediate):\n",
    "### Write a list comprehension that combines two lists by taking the element at the same index from each list.\n",
    "\n",
    "### Input: list1 = [1, 2, 3, 4], list2 = ['a', 'b', 'c', 'd']\n",
    "### Output: [(1, 'a'), (2, 'b'), (3, 'c'), (4, 'd')]"
   ]
  },
  {
   "cell_type": "code",
   "execution_count": null,
   "metadata": {},
   "outputs": [],
   "source": []
  },
  {
   "attachments": {},
   "cell_type": "markdown",
   "metadata": {},
   "source": [
    "### Exercise 5 (Advanced):\n",
    "### Write a list comprehension that generates a list of prime numbers between 1 and 100.\n",
    "\n",
    "### Input: None\n",
    "### Output: [2, 3, 5, 7, 11, 13, 17, 19, 23, 29, 31, 37, 41, 43, 47, 53, 59, 61, 67, 71, 73, 79, 83, 89, 97]"
   ]
  },
  {
   "attachments": {},
   "cell_type": "markdown",
   "metadata": {},
   "source": []
  },
  {
   "attachments": {},
   "cell_type": "markdown",
   "metadata": {},
   "source": [
    "## Dict comprehension"
   ]
  },
  {
   "attachments": {},
   "cell_type": "markdown",
   "metadata": {},
   "source": [
    "### Exercise 1 (Beginner):\n",
    "### Write a dictionary comprehension that generates a dictionary mapping numbers from 1 to 5 to their squares.\n",
    "\n",
    "### Input: None\n",
    "### Output: {1: 1, 2: 4, 3: 9, 4: 16, 5: 25}"
   ]
  },
  {
   "cell_type": "code",
   "execution_count": null,
   "metadata": {},
   "outputs": [],
   "source": []
  },
  {
   "attachments": {},
   "cell_type": "markdown",
   "metadata": {},
   "source": [
    "### Exercise 2 (Beginner):\n",
    "### Write a dictionary comprehension that swaps the keys and values of a given dictionary.\n",
    "\n",
    "### Input: original_dict = {'a': 1, 'b': 2, 'c': 3}\n",
    "### Output: {1: 'a', 2: 'b', 3: 'c'}\n",
    "\n"
   ]
  },
  {
   "cell_type": "code",
   "execution_count": null,
   "metadata": {},
   "outputs": [],
   "source": []
  },
  {
   "attachments": {},
   "cell_type": "markdown",
   "metadata": {},
   "source": [
    "### Exercise 3 (Intermediate):\n",
    "### Write a dictionary comprehension that filters out the key-value pairs from a given dictionary where the value is even.\n",
    "### Input: original_dict = {'a': 1, 'b': 2, 'c': 3, 'd': 4, 'e': 5}\n",
    "### Output: {'a': 1, 'c': 3, 'e': 5}\n"
   ]
  },
  {
   "cell_type": "code",
   "execution_count": null,
   "metadata": {},
   "outputs": [],
   "source": []
  },
  {
   "attachments": {},
   "cell_type": "markdown",
   "metadata": {},
   "source": [
    "### Exercise 4 (Intermediate):\n",
    "### Write a dictionary comprehension that creates a new dictionary by excluding key-value pairs with duplicate values from a given dictionary.\n",
    "\n",
    "### Input: original_dict = {'a': 1, 'b': 2, 'c': 1, 'd': 3, 'e': 2}\n",
    "### Output: {'d': 3}"
   ]
  },
  {
   "cell_type": "code",
   "execution_count": null,
   "metadata": {},
   "outputs": [],
   "source": []
  },
  {
   "attachments": {},
   "cell_type": "markdown",
   "metadata": {},
   "source": [
    "### Exercise 5 (Advanced):\n",
    "### Write a dictionary comprehension that generates a dictionary where the keys are numbers from 1 to 10, and the values are lists containing the squares and cubes of the respective keys.\n",
    "\n",
    "### Input: None\n",
    "### Output:{\n",
    "###   1: [1, 1],\n",
    "###   2: [4, 8],\n",
    "###   3: [9, 27],\n",
    "###   4: [16, 64],\n",
    "###   5: [25, 125],\n",
    "###   6: [36, 216],\n",
    "###   7: [49, 343],\n",
    "###   8: [64, 512],\n",
    "###   9: [81, 729],\n",
    "###   10: [100, 1000]\n",
    "### }"
   ]
  },
  {
   "cell_type": "code",
   "execution_count": null,
   "metadata": {},
   "outputs": [],
   "source": []
  },
  {
   "attachments": {},
   "cell_type": "markdown",
   "metadata": {},
   "source": [
    "# Exceptions"
   ]
  },
  {
   "attachments": {},
   "cell_type": "markdown",
   "metadata": {},
   "source": [
    "### Exercise 1 (Beginner):\n",
    "### Write a try-except block that handles a ZeroDivisionError and prints \"Cannot divide by zero!\" if such an error occurs.\n",
    "\n",
    "### Input: None\n",
    "### Output: Prints \"Cannot divide by zero!\" if a ZeroDivisionError occurs."
   ]
  },
  {
   "cell_type": "code",
   "execution_count": null,
   "metadata": {},
   "outputs": [],
   "source": []
  },
  {
   "attachments": {},
   "cell_type": "markdown",
   "metadata": {},
   "source": [
    "### Exercise 2 (Beginner):\n",
    "### Write a try-except block that handles a ValueError and prints \"Invalid input!\" if the user enters a non-integer value.\n",
    "\n",
    "### Input: User input (a number)\n",
    "### Output: Prints \"Invalid input!\" if a ValueError occurs."
   ]
  },
  {
   "cell_type": "code",
   "execution_count": null,
   "metadata": {},
   "outputs": [],
   "source": []
  },
  {
   "attachments": {},
   "cell_type": "markdown",
   "metadata": {},
   "source": [
    "### Exercise 3 (Intermediate):\n",
    "### Write a try-except-else block that attempts to open a file, reads its contents, and prints the number of lines if successful. If the file does not exist, it should handle the FileNotFoundError and print \"File not found!\".\n",
    "\n",
    "### Input: None (Assuming file.txt exists)\n",
    "### Output: Prints the number of lines in the file if successful; Prints \"File not found!\" if FileNotFoundError occurs."
   ]
  },
  {
   "cell_type": "code",
   "execution_count": null,
   "metadata": {},
   "outputs": [],
   "source": []
  },
  {
   "attachments": {},
   "cell_type": "markdown",
   "metadata": {},
   "source": [
    "### Exercise 4 (Intermediate):\n",
    "### Write a try-except-finally block that attempts to perform a risky operation, catches any exception, and prints \"An error occurred!\" in the except block. The finally block should always execute and print \"Finally block executed!\".\n",
    "\n",
    "### Input: None\n",
    "### Output: Prints \"An error occurred!\" in the except block; Prints \"Finally block executed!\" in the finally block."
   ]
  },
  {
   "cell_type": "code",
   "execution_count": null,
   "metadata": {},
   "outputs": [],
   "source": []
  },
  {
   "attachments": {},
   "cell_type": "markdown",
   "metadata": {},
   "source": [
    "### Exercise 5 (Advanced):\n",
    "### Write a custom exception class called NegativeNumberError. Then, write a function that takes a number as input and raises a NegativeNumberError if the number is negative. Finally, use a try-except block to catch and handle the custom exception.\n",
    "\n",
    "### Input: User input (a number)\n",
    "### Output: Prints the custom exception message (\"Negative numbers are not allowed!\") if a NegativeNumberError occurs.\n"
   ]
  },
  {
   "cell_type": "code",
   "execution_count": null,
   "metadata": {},
   "outputs": [],
   "source": []
  },
  {
   "attachments": {},
   "cell_type": "markdown",
   "metadata": {},
   "source": []
  }
 ],
 "metadata": {
  "kernelspec": {
   "display_name": "Python 3",
   "language": "python",
   "name": "python3"
  },
  "language_info": {
   "codemirror_mode": {
    "name": "ipython",
    "version": 3
   },
   "file_extension": ".py",
   "mimetype": "text/x-python",
   "name": "python",
   "nbconvert_exporter": "python",
   "pygments_lexer": "ipython3",
   "version": "3.10.12"
  },
  "orig_nbformat": 4
 },
 "nbformat": 4,
 "nbformat_minor": 2
}
